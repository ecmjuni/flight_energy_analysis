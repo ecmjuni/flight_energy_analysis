{
 "cells": [
  {
   "cell_type": "markdown",
   "metadata": {},
   "source": [
    "### Imports"
   ]
  },
  {
   "cell_type": "code",
   "execution_count": 7,
   "metadata": {},
   "outputs": [],
   "source": [
    "import pandas as pd\n",
    "import numpy as np\n",
    "import os\n",
    "import kaleido\n",
    "\n",
    "import plotly.express as px\n",
    "import plotly.graph_objects as go\n",
    "import folium as fl\n",
    "\n",
    "from math import pi, acos, cos, sin, tan\n",
    "\n",
    "# Data Columns Dictionary\n",
    "from flight_data_dict import flight_data_columns, ENERGY_LABEL, flight_data_columns_final"
   ]
  },
  {
   "cell_type": "markdown",
   "metadata": {},
   "source": [
    "### Path"
   ]
  },
  {
   "cell_type": "code",
   "execution_count": 8,
   "metadata": {},
   "outputs": [
    {
     "data": {
      "text/plain": [
       "['flight_datalake/FLT18_BSB.csv',\n",
       " 'flight_datalake/FLT45_BSB.csv',\n",
       " 'flight_datalake/FLT44_VCP.csv',\n",
       " 'flight_datalake/FLT11_BSB.csv',\n",
       " 'flight_datalake/FLT45_VCP.csv',\n",
       " 'flight_datalake/FLT18_MAO.csv',\n",
       " 'flight_datalake/FLT19_BSB.csv',\n",
       " 'flight_datalake/FLT44_BSB.csv',\n",
       " 'flight_datalake/FLT12_BSB.csv',\n",
       " 'flight_datalake/FLT47_VCP.csv',\n",
       " 'flight_datalake/FLT13_MAO.csv',\n",
       " 'flight_datalake/FLT46_BSB.csv',\n",
       " 'flight_datalake/FLT12_MAO.csv',\n",
       " 'flight_datalake/FLT47_BSB.csv',\n",
       " 'flight_datalake/FLT46_VCP.csv',\n",
       " 'flight_datalake/FLT13_BSB.csv',\n",
       " 'flight_datalake/FLT43_VCP.csv',\n",
       " 'flight_datalake/FLT16_BSB.csv',\n",
       " 'flight_datalake/FLT42_BSB.csv',\n",
       " 'flight_datalake/FLT17_MAO.csv',\n",
       " 'flight_datalake/FLT20_BSB.csv',\n",
       " 'flight_datalake/FLT43_BSB.csv',\n",
       " 'flight_datalake/FLT17_BSB.csv',\n",
       " 'flight_datalake/FLT42_VCP.csv',\n",
       " 'flight_datalake/FLT41_BSB.csv',\n",
       " 'flight_datalake/FLT49_VCP.csv',\n",
       " 'flight_datalake/FLT48_BSB.csv',\n",
       " 'flight_datalake/FLT15_BSB.csv',\n",
       " 'flight_datalake/FLT50_VCP.csv',\n",
       " 'flight_datalake/FLT49_BSB.csv',\n",
       " 'flight_datalake/FLT41_VCP.csv',\n",
       " 'flight_datalake/FLT14_BSB.csv',\n",
       " 'flight_datalake/FLT15_MAO.csv',\n",
       " 'flight_datalake/FLT50_BSB.csv',\n",
       " 'flight_datalake/FLT48_VCP.csv']"
      ]
     },
     "execution_count": 8,
     "metadata": {},
     "output_type": "execute_result"
    }
   ],
   "source": [
    "allFiles = os.listdir(\"flight_datalake\")\n",
    "dataPath = []\n",
    "\n",
    "for file in allFiles:\n",
    "    if file.endswith(\".csv\"):\n",
    "        dataPath.append(f\"flight_datalake/{file}\")\n",
    "\n",
    "dataPath"
   ]
  },
  {
   "cell_type": "markdown",
   "metadata": {},
   "source": [
    "### Reading and Cleaning"
   ]
  },
  {
   "cell_type": "code",
   "execution_count": 9,
   "metadata": {},
   "outputs": [],
   "source": [
    "class flight_data_analyser():\n",
    "\n",
    "    def __init__(self, data_path, airport_ref):\n",
    "\n",
    "        self.GLIDE_PATH_ANGLE = 3.1\n",
    "\n",
    "        self.TOT_DIST = 0\n",
    "\n",
    "        # MANAUS TDP\n",
    "        tdp_lat_SBEG = -3.038627778\n",
    "        tdp_lon_SBEG = -60.05777778\n",
    "\n",
    "        #MANAUS ALTITUDE ft\n",
    "        SBEG_alt = 252.0\n",
    "\n",
    "        # BRASILIA TDP\n",
    "        tdp_lat_SBBR = -15.863563\n",
    "        tdp_lon_SBBR = -47.927720\n",
    "\n",
    "        #BRASILIA ALTITUDE ft\n",
    "        SBBR_alt = 3451.0\n",
    "\n",
    "        # VIRACOPOS TDP\n",
    "        tdp_lat_SBKP = -22.998310\n",
    "        tdp_lon_SBKP = -47.147194\n",
    "\n",
    "        #VIRACOPOS ALTITUDE ft\n",
    "        SBKP_alt = 2139.0\n",
    "\n",
    "        if airport_ref == 'VCP':\n",
    "            self.tdp_lat = tdp_lat_SBKP\n",
    "            self.tdp_lon = tdp_lon_SBKP\n",
    "            self.alt_error = SBKP_alt\n",
    "        elif airport_ref == 'BSB':\n",
    "            self.tdp_lat = tdp_lat_SBBR\n",
    "            self.tdp_lon = tdp_lon_SBBR\n",
    "            self.alt_error = SBBR_alt\n",
    "        elif airport_ref == 'MAO':\n",
    "            self.tdp_lat = tdp_lat_SBEG\n",
    "            self.tdp_lon = tdp_lon_SBEG\n",
    "            self.alt_error = SBEG_alt\n",
    "\n",
    "\n",
    "        self.flight_data = pd.read_csv(data_path, sep=\";\")\n",
    "\n",
    "    def clean_flight_data(self, flightdata_dict, flightdata_dict_final):\n",
    "\n",
    "        #self.flight_data.drop(self.flight_data.tail(3).index,inplace = True)\n",
    "\n",
    "        #if \"CORR LAT\" in self.flight_data.columns or \"LAT CORR\" in self.flight_data.columns:\n",
    "        #    self.flight_data.rename(columns=new_column_names, inplace=True)\n",
    "\n",
    "        self.flight_data = self.flight_data[[col for col in flightdata_dict.keys()]]\n",
    "\n",
    "        if len(self.flight_data[\"LATP\"].str.split(\".\")) > 2:\n",
    "            self.flight_data[\"LATP\"] = self.flight_data[\"LATP\"].str.replace(\".\", \"\", regex=False)\n",
    "            self.flight_data[\"LATP\"] = self.flight_data[\"LATP\"].astype(\"Int64\")\n",
    "            self.flight_data[\"LATP\"] = self.flight_data[\"LATP\"] / 1000000\n",
    "\n",
    "        if len(self.flight_data[\"LONP\"].str.split(\".\")) > 2:\n",
    "            self.flight_data[\"LONP\"] = self.flight_data[\"LONP\"].str.replace(\".\", \"\", regex=False)\n",
    "            self.flight_data[\"LONP\"] = self.flight_data[\"LONP\"].astype(\"Int64\")\n",
    "            self.flight_data[\"LONP\"] = self.flight_data[\"LONP\"] / 1000000\n",
    "\n",
    "        self.flight_data.astype(flightdata_dict)\n",
    "\n",
    "        self.flight_data = self.flight_data.dropna()\n",
    "\n",
    "        # DATE FILED TREATMENT\n",
    "        self.flight_data[\"DATE\"] = self.flight_data[\"DATE\"].str.replace(\"XX/\", \"\")\n",
    "        self.flight_data[\"DATE\"] = pd.to_datetime(self.flight_data[\"DATE\"], format=\"%m/%y\").dt.strftime(\"%m/%Y\")\n",
    "\n",
    "        # CALCULATION COLS\n",
    "        self.flight_data = self.lonlatcorr_calc(self.flight_data)\n",
    "        self.flight_data = self.delta_d_calc(self.flight_data)\n",
    "        self.flight_data = self.accum_d_calc(self.flight_data)\n",
    "\n",
    "        self.TOT_DIST = self.flight_data[\"ACCUM_D\"].max()\n",
    "\n",
    "        self.flight_data = self.tdd_calc(self.flight_data)\n",
    "        self.flight_data = self.e_p_calc(self.flight_data)\n",
    "        self.flight_data = self.e_c_calc(self.flight_data)\n",
    "        self.flight_data = self.e_tot_calc(self.flight_data)\n",
    "        self.flight_data = self.H_GEOM_REF_m_calc(self.flight_data)\n",
    "        self.flight_data = self.H_GEOM_REF_ft_calc(self.flight_data)\n",
    "        self.flight_data = self.sat_calc(self.flight_data)\n",
    "        self.flight_data = self.theta_calc(self.flight_data)\n",
    "        self.flight_data = self.sigma_calc(self.flight_data)\n",
    "        self.flight_data = self.tas_calc(self.flight_data)\n",
    "        self.flight_data = self.wind_comp_calc(self.flight_data)\n",
    "        self.flight_data = self.e_p_ref_calc(self.flight_data)\n",
    "        self.flight_data = self.e_c_ref_calc(self.flight_data)\n",
    "        self.flight_data = self.E_TOT_ref_calc(self.flight_data)\n",
    "        self.flight_data = self.e_ref_inf_calc(self.flight_data)\n",
    "        self.flight_data = self.e_ref_supp_calc(self.flight_data)\n",
    "        self.flight_data = self.flag_inf_calc(self.flight_data)\n",
    "        self.flight_data = self.flag_sup_calc(self.flight_data)\n",
    "        self.flight_data = self.energy_state_calc(self.flight_data)\n",
    "        self.flight_data = self.color_set(self.flight_data)\n",
    "\n",
    "        #self.flight_data = self.flight_data[[col for col in flightdata_dict_final.keys()]]\n",
    "        self.flight_data.astype(flightdata_dict_final)\n",
    "\n",
    "    def delta_d_calc(self, df):\n",
    "        \n",
    "        df[\"Delta_D\"] = 0\n",
    "        \n",
    "        for i in range(1, len(df)):\n",
    "            df.loc[i, \"Delta_D\"] = (180/pi)*60*acos((sin(df.loc[i-1, \"LATCORR\"]*pi/180)*sin(df.loc[i, \"LATCORR\"]*pi/180)+cos(df.loc[i, \"LATCORR\"]*pi/180)*cos(df.loc[i-1, \"LATCORR\"]*pi/180)*cos((df.loc[i, \"LONCORR\"]-df.loc[i-1, \"LONCORR\"])*pi/180)))\n",
    "    \n",
    "        df[\"Delta_D\"] = df[\"Delta_D\"].round(2)\n",
    "\n",
    "        df = df.fillna(value=0)\n",
    "\n",
    "        return df\n",
    "\n",
    "    def accum_d_calc(self, df):\n",
    "\n",
    "        df[\"ACCUM_D\"] = 0\n",
    "\n",
    "        for i in range(1, len(df)):\n",
    "            df.loc[i, \"ACCUM_D\"] = df.loc[i-1, \"ACCUM_D\"] + df.loc[i, \"Delta_D\"]\n",
    "\n",
    "        df[\"ACCUM_D\"] = df[\"ACCUM_D\"].round(1)\n",
    "\n",
    "        return df\n",
    "    \n",
    "    def tdd_calc(self, df):\n",
    "        \n",
    "        df[\"TDD\"] = self.TOT_DIST - df[\"ACCUM_D\"]\n",
    "\n",
    "        df[\"TDD\"] = df[\"TDD\"].round(1)\n",
    "\n",
    "        return df\n",
    "    \n",
    "    def e_p_calc(self, df):\n",
    "\n",
    "        df[\"e_p\"] = 9.811 * (df[\"HEIGHT\"] * 0.3048) / 1000\n",
    "\n",
    "        df[\"e_p\"] = df[\"e_p\"].round(1)\n",
    "\n",
    "        return df\n",
    "\n",
    "    def e_c_calc(self, df):\n",
    "\n",
    "        df[\"e_c\"] = 0.5 * (df[\"GS\"] * 0.5144).pow(2) / 1000\n",
    "\n",
    "        df[\"e_c\"] = df[\"e_c\"].round(1)\n",
    "\n",
    "        return df\n",
    "\n",
    "    def e_tot_calc(self, df):\n",
    "\n",
    "        df[\"e_tot\"] = df[\"e_p\"] + df[\"e_c\"]\n",
    "\n",
    "        df[\"e_tot\"] = df[\"e_tot\"].round(1)\n",
    "\n",
    "        return df\n",
    "    \n",
    "    def H_GEOM_REF_m_calc(self, df):\n",
    "\n",
    "        df[\"H_GEOM_REF_m\"] = df[\"TDD\"] * tan(self.GLIDE_PATH_ANGLE * pi / 180) * 1852\n",
    "\n",
    "        df[\"H_GEOM_REF_m\"] = df[\"H_GEOM_REF_m\"].round(1)\n",
    "\n",
    "        return df\n",
    "    \n",
    "    def H_GEOM_REF_ft_calc(self, df):\n",
    "\n",
    "        df[\"H_GEOM_REF_ft\"] = (df[\"H_GEOM_REF_m\"] * 3.2808) + self.alt_error\n",
    "\n",
    "        return df\n",
    "    \n",
    "    def sat_calc(self, df):\n",
    "\n",
    "        df[\"SAT\"] = df[\"TAT\"] / ( 1 + 0.2 * df[\"MACH\"].pow(2))\n",
    "\n",
    "        df[\"SAT\"] = df[\"SAT\"].round(1)\n",
    "\n",
    "        return df\n",
    "    \n",
    "    def theta_calc(self, df):\n",
    "\n",
    "        df[\"theta\"] = (df[\"SAT\"] + 273.15) / 288.15\n",
    "\n",
    "        df[\"theta\"] = df[\"theta\"].round(4)\n",
    "\n",
    "        return df\n",
    "    \n",
    "    def sigma_calc(self, df):\n",
    "\n",
    "        df[\"sigma\"] = df[\"theta\"].pow(4.2559)\n",
    "\n",
    "        df[\"sigma\"] = df[\"sigma\"].round(4)\n",
    "\n",
    "        return df\n",
    "    \n",
    "    def tas_calc(self, df):\n",
    "\n",
    "        df[\"TAS\"] = df[\"VLS\"] / df[\"sigma\"].pow(1/2)\n",
    "\n",
    "        df[\"TAS\"] = df[\"TAS\"].round(1)\n",
    "\n",
    "        return df\n",
    "    \n",
    "    def wind_comp_calc(self, df):\n",
    "        \n",
    "        df[\"WIND_COMP\"] = 0\n",
    "\n",
    "        for i in range(0, len(df)):\n",
    "            df.loc[i, \"WIND_COMP\"] = cos((df.loc[i, \"HEAD\"] - df.loc[i, \"WINDIR\"]) * pi / 180) * df.loc[i, \"WINSPD\"]\n",
    "        \n",
    "        df[\"WIND_COMP\"] = df[\"WIND_COMP\"].round(1)\n",
    "\n",
    "        return df\n",
    "    \n",
    "    def e_p_ref_calc(self, df):\n",
    "\n",
    "        df[\"e_p_ref\"] = 0\n",
    "\n",
    "        df[\"e_p_ref\"] = df[\"H_GEOM_REF_m\"] * 9.8611 / 1000\n",
    "\n",
    "        df[\"e_p_ref\"] = df[\"e_p_ref\"].round(1)\n",
    "\n",
    "        return df\n",
    "    \n",
    "    def e_c_ref_calc(self, df):\n",
    "\n",
    "        df[\"e_c_REF\"] = 0\n",
    "\n",
    "        df[\"e_c_REF\"] = 0.5 * ((df[\"TAS\"] + 5 + df[\"WIND_COMP\"]) * 0.5144).pow(2) / 1000\n",
    "\n",
    "        df[\"e_c_REF\"] = df[\"e_c_REF\"].round(1)\n",
    "\n",
    "        return df\n",
    "    \n",
    "    def E_TOT_ref_calc(self, df):\n",
    "\n",
    "        df[\"E_TOT_ref\"] = 0\n",
    "\n",
    "        df[\"E_TOT_ref\"] = df[\"e_p_ref\"] + df[\"e_c_REF\"]\n",
    "\n",
    "        df[\"E_TOT_ref\"] = df[\"E_TOT_ref\"].round(1)\n",
    "\n",
    "        return df\n",
    "    \n",
    "    def e_ref_inf_calc(self, df):\n",
    "\n",
    "        df[\"e_ref_inf\"] = 0\n",
    "\n",
    "        df[\"e_ref_inf\"] = df[\"E_TOT_ref\"] * 0.8\n",
    "\n",
    "        df[\"e_ref_inf\"] = df[\"e_ref_inf\"].round(1)\n",
    "\n",
    "        return df\n",
    "    \n",
    "    def e_ref_supp_calc(self, df):\n",
    "\n",
    "        df[\"e_ref_supp\"] = 0\n",
    "\n",
    "        df[\"e_ref_supp\"] = df[\"E_TOT_ref\"] * 1.2\n",
    "\n",
    "        df[\"e_ref_supp\"] = df[\"e_ref_supp\"].round(1)\n",
    "\n",
    "        return df\n",
    "    \n",
    "    def flag_inf_calc(self, df):\n",
    "\n",
    "        df[\"FLAG_INF\"] = 0\n",
    "\n",
    "        for i in range(0, len(df)):\n",
    "            df.loc[i, \"FLAG_INF\"] = 1 if df.loc[i, \"e_tot\"] < df.loc[i, \"e_ref_inf\"] else 0\n",
    "\n",
    "        return df\n",
    "    \n",
    "    def flag_sup_calc(self, df):\n",
    "\n",
    "        df[\"FLAG_SUP\"] = 0\n",
    "\n",
    "        for i in range(0, len(df)):\n",
    "            df.loc[i, \"FLAG_SUP\"] = 1 if df.loc[i, \"e_tot\"] > df.loc[i, \"e_ref_supp\"] else 0\n",
    "\n",
    "        return df\n",
    "    \n",
    "    def energy_state_calc(self, df):\n",
    "\n",
    "        df[\"energy_state\"] = \"\"\n",
    "\n",
    "        for i in range(0, len(df)):\n",
    "            df.loc[i, \"energy_state\"] = \"LOW ENERGY\" if df.loc[i, \"FLAG_INF\"] == 1 else \"HIGH ENERGY\" if df.loc[i, \"FLAG_SUP\"] == 1 else \"ON PATH\"\n",
    "\n",
    "        return df\n",
    "\n",
    "    def color_set(self, df):\n",
    "        \n",
    "        df[\"COLOR\"] = \"\"\n",
    "\n",
    "        for i in range(0, len(df)):\n",
    "            df.loc[i, \"COLOR\"] = \"orange\" if df.loc[i, \"energy_state\"] == \"LOW ENERGY\" else \"blue\" if df.loc[i, \"energy_state\"] == \"ON PATH\" else \"red\"\n",
    "\n",
    "        return df\n",
    "    \n",
    "    def lonlatcorr_calc(self, df):\n",
    "        \n",
    "        df[\"LONCORR\"] = 0.0\n",
    "        df[\"LATCORR\"] = 0.0\n",
    "        counter = 0\n",
    "\n",
    "        for i in range(0, len(df)):\n",
    "            #print(f\"FPHASE:{df.loc[i, 'FPHASE']} | LDGL:{df.loc[i, 'LDGL']} | LDGR:{df.loc[i, 'LDGR']}\")\n",
    "            if df.loc[i, \"FPHASE\"].__contains__(\"LANDING\") and df.loc[i, \"LDGL\"].__contains__(\"GROUND\") and df.loc[i, \"LDGR\"].__contains__(\"GROUND\") and counter == 0:\n",
    "                lat_error = df.loc[i, \"LATP\"] - self.tdp_lat\n",
    "                lon_error = df.loc[i, \"LONP\"] - self.tdp_lon\n",
    "                counter += 1\n",
    "\n",
    "        for i in range(0, len(df)):\n",
    "            #if df.loc[i, \"FPHASE\"] != \"LANDING\" and df.loc[i, \"LDGL\"] != \"GROUND\" and df.loc[i, \"LDGR\"] != \"GROUND\":            \n",
    "            df.loc[i, \"LATCORR\"] = df.loc[i, \"LATP\"] - lat_error\n",
    "            df.loc[i, \"LONCORR\"] = df.loc[i, \"LONP\"] - lon_error\n",
    "                \n",
    "        return df"
   ]
  },
  {
   "cell_type": "markdown",
   "metadata": {},
   "source": [
    "### RUN FLIGHT ENERGY ANALYSIS"
   ]
  },
  {
   "cell_type": "code",
   "execution_count": 11,
   "metadata": {},
   "outputs": [
    {
     "name": "stderr",
     "output_type": "stream",
     "text": [
      "/var/folders/nx/db9dkdfd0wd2m2zb8tr42rm40000gn/T/ipykernel_24507/559099524.py:109: FutureWarning:\n",
      "\n",
      "Setting an item of incompatible dtype is deprecated and will raise in a future error of pandas. Value '0.05759956933343244' has dtype incompatible with int64, please explicitly cast to a compatible dtype first.\n",
      "\n",
      "/var/folders/nx/db9dkdfd0wd2m2zb8tr42rm40000gn/T/ipykernel_24507/559099524.py:122: FutureWarning:\n",
      "\n",
      "Setting an item of incompatible dtype is deprecated and will raise in a future error of pandas. Value '0.06' has dtype incompatible with int64, please explicitly cast to a compatible dtype first.\n",
      "\n",
      "/var/folders/nx/db9dkdfd0wd2m2zb8tr42rm40000gn/T/ipykernel_24507/559099524.py:211: FutureWarning:\n",
      "\n",
      "Setting an item of incompatible dtype is deprecated and will raise in a future error of pandas. Value '-3.742241942752716' has dtype incompatible with int64, please explicitly cast to a compatible dtype first.\n",
      "\n"
     ]
    },
    {
     "name": "stdout",
     "output_type": "stream",
     "text": [
      "FLIGHT: flight_datalake/FLT18_BSB.csv\n",
      "TOT_DIST: 19.2\n",
      "flight_datalake/FLT18_BSB.csv PROCESSED AND SAVED!\n"
     ]
    },
    {
     "name": "stderr",
     "output_type": "stream",
     "text": [
      "/var/folders/nx/db9dkdfd0wd2m2zb8tr42rm40000gn/T/ipykernel_24507/559099524.py:109: FutureWarning:\n",
      "\n",
      "Setting an item of incompatible dtype is deprecated and will raise in a future error of pandas. Value '0.05333135197953309' has dtype incompatible with int64, please explicitly cast to a compatible dtype first.\n",
      "\n",
      "/var/folders/nx/db9dkdfd0wd2m2zb8tr42rm40000gn/T/ipykernel_24507/559099524.py:122: FutureWarning:\n",
      "\n",
      "Setting an item of incompatible dtype is deprecated and will raise in a future error of pandas. Value '0.05' has dtype incompatible with int64, please explicitly cast to a compatible dtype first.\n",
      "\n",
      "/var/folders/nx/db9dkdfd0wd2m2zb8tr42rm40000gn/T/ipykernel_24507/559099524.py:211: FutureWarning:\n",
      "\n",
      "Setting an item of incompatible dtype is deprecated and will raise in a future error of pandas. Value '2.5109199543530636' has dtype incompatible with int64, please explicitly cast to a compatible dtype first.\n",
      "\n"
     ]
    },
    {
     "name": "stdout",
     "output_type": "stream",
     "text": [
      "FLIGHT: flight_datalake/FLT45_BSB.csv\n",
      "TOT_DIST: 13.2\n",
      "flight_datalake/FLT45_BSB.csv PROCESSED AND SAVED!\n"
     ]
    },
    {
     "name": "stderr",
     "output_type": "stream",
     "text": [
      "/var/folders/nx/db9dkdfd0wd2m2zb8tr42rm40000gn/T/ipykernel_24507/559099524.py:109: FutureWarning:\n",
      "\n",
      "Setting an item of incompatible dtype is deprecated and will raise in a future error of pandas. Value '0.05952146151872406' has dtype incompatible with int64, please explicitly cast to a compatible dtype first.\n",
      "\n",
      "/var/folders/nx/db9dkdfd0wd2m2zb8tr42rm40000gn/T/ipykernel_24507/559099524.py:122: FutureWarning:\n",
      "\n",
      "Setting an item of incompatible dtype is deprecated and will raise in a future error of pandas. Value '0.06' has dtype incompatible with int64, please explicitly cast to a compatible dtype first.\n",
      "\n",
      "/var/folders/nx/db9dkdfd0wd2m2zb8tr42rm40000gn/T/ipykernel_24507/559099524.py:211: FutureWarning:\n",
      "\n",
      "Setting an item of incompatible dtype is deprecated and will raise in a future error of pandas. Value '-0.2455622291901744' has dtype incompatible with int64, please explicitly cast to a compatible dtype first.\n",
      "\n"
     ]
    },
    {
     "name": "stdout",
     "output_type": "stream",
     "text": [
      "FLIGHT: flight_datalake/FLT44_VCP.csv\n",
      "TOT_DIST: 10.7\n",
      "flight_datalake/FLT44_VCP.csv PROCESSED AND SAVED!\n"
     ]
    },
    {
     "name": "stderr",
     "output_type": "stream",
     "text": [
      "/var/folders/nx/db9dkdfd0wd2m2zb8tr42rm40000gn/T/ipykernel_24507/559099524.py:109: FutureWarning:\n",
      "\n",
      "Setting an item of incompatible dtype is deprecated and will raise in a future error of pandas. Value '0.07626769109552148' has dtype incompatible with int64, please explicitly cast to a compatible dtype first.\n",
      "\n",
      "/var/folders/nx/db9dkdfd0wd2m2zb8tr42rm40000gn/T/ipykernel_24507/559099524.py:122: FutureWarning:\n",
      "\n",
      "Setting an item of incompatible dtype is deprecated and will raise in a future error of pandas. Value '0.08' has dtype incompatible with int64, please explicitly cast to a compatible dtype first.\n",
      "\n"
     ]
    },
    {
     "name": "stdout",
     "output_type": "stream",
     "text": [
      "FLIGHT: flight_datalake/FLT11_BSB.csv\n",
      "TOT_DIST: 23.7\n",
      "flight_datalake/FLT11_BSB.csv PROCESSED AND SAVED!\n"
     ]
    },
    {
     "name": "stderr",
     "output_type": "stream",
     "text": [
      "/var/folders/nx/db9dkdfd0wd2m2zb8tr42rm40000gn/T/ipykernel_24507/559099524.py:109: FutureWarning:\n",
      "\n",
      "Setting an item of incompatible dtype is deprecated and will raise in a future error of pandas. Value '0.04947223053274338' has dtype incompatible with int64, please explicitly cast to a compatible dtype first.\n",
      "\n",
      "/var/folders/nx/db9dkdfd0wd2m2zb8tr42rm40000gn/T/ipykernel_24507/559099524.py:122: FutureWarning:\n",
      "\n",
      "Setting an item of incompatible dtype is deprecated and will raise in a future error of pandas. Value '0.05' has dtype incompatible with int64, please explicitly cast to a compatible dtype first.\n",
      "\n",
      "/var/folders/nx/db9dkdfd0wd2m2zb8tr42rm40000gn/T/ipykernel_24507/559099524.py:211: FutureWarning:\n",
      "\n",
      "Setting an item of incompatible dtype is deprecated and will raise in a future error of pandas. Value '6.236934066724912' has dtype incompatible with int64, please explicitly cast to a compatible dtype first.\n",
      "\n"
     ]
    },
    {
     "name": "stdout",
     "output_type": "stream",
     "text": [
      "FLIGHT: flight_datalake/FLT45_VCP.csv\n",
      "TOT_DIST: 11.0\n",
      "flight_datalake/FLT45_VCP.csv PROCESSED AND SAVED!\n"
     ]
    },
    {
     "name": "stderr",
     "output_type": "stream",
     "text": [
      "/var/folders/nx/db9dkdfd0wd2m2zb8tr42rm40000gn/T/ipykernel_24507/559099524.py:109: FutureWarning:\n",
      "\n",
      "Setting an item of incompatible dtype is deprecated and will raise in a future error of pandas. Value '0.7300608564187233' has dtype incompatible with int64, please explicitly cast to a compatible dtype first.\n",
      "\n",
      "/var/folders/nx/db9dkdfd0wd2m2zb8tr42rm40000gn/T/ipykernel_24507/559099524.py:122: FutureWarning:\n",
      "\n",
      "Setting an item of incompatible dtype is deprecated and will raise in a future error of pandas. Value '0.73' has dtype incompatible with int64, please explicitly cast to a compatible dtype first.\n",
      "\n",
      "/var/folders/nx/db9dkdfd0wd2m2zb8tr42rm40000gn/T/ipykernel_24507/559099524.py:211: FutureWarning:\n",
      "\n",
      "Setting an item of incompatible dtype is deprecated and will raise in a future error of pandas. Value '5.999999908614774' has dtype incompatible with int64, please explicitly cast to a compatible dtype first.\n",
      "\n"
     ]
    },
    {
     "name": "stdout",
     "output_type": "stream",
     "text": [
      "FLIGHT: flight_datalake/FLT18_MAO.csv\n",
      "TOT_DIST: 70.6\n",
      "flight_datalake/FLT18_MAO.csv PROCESSED AND SAVED!\n"
     ]
    },
    {
     "name": "stderr",
     "output_type": "stream",
     "text": [
      "/var/folders/nx/db9dkdfd0wd2m2zb8tr42rm40000gn/T/ipykernel_24507/559099524.py:109: FutureWarning:\n",
      "\n",
      "Setting an item of incompatible dtype is deprecated and will raise in a future error of pandas. Value '0.06545431479089928' has dtype incompatible with int64, please explicitly cast to a compatible dtype first.\n",
      "\n",
      "/var/folders/nx/db9dkdfd0wd2m2zb8tr42rm40000gn/T/ipykernel_24507/559099524.py:122: FutureWarning:\n",
      "\n",
      "Setting an item of incompatible dtype is deprecated and will raise in a future error of pandas. Value '0.07' has dtype incompatible with int64, please explicitly cast to a compatible dtype first.\n",
      "\n"
     ]
    },
    {
     "name": "stdout",
     "output_type": "stream",
     "text": [
      "FLIGHT: flight_datalake/FLT19_BSB.csv\n",
      "TOT_DIST: 14.1\n",
      "flight_datalake/FLT19_BSB.csv PROCESSED AND SAVED!\n"
     ]
    },
    {
     "name": "stderr",
     "output_type": "stream",
     "text": [
      "/var/folders/nx/db9dkdfd0wd2m2zb8tr42rm40000gn/T/ipykernel_24507/559099524.py:109: FutureWarning:\n",
      "\n",
      "Setting an item of incompatible dtype is deprecated and will raise in a future error of pandas. Value '0.056792150173384126' has dtype incompatible with int64, please explicitly cast to a compatible dtype first.\n",
      "\n",
      "/var/folders/nx/db9dkdfd0wd2m2zb8tr42rm40000gn/T/ipykernel_24507/559099524.py:122: FutureWarning:\n",
      "\n",
      "Setting an item of incompatible dtype is deprecated and will raise in a future error of pandas. Value '0.06' has dtype incompatible with int64, please explicitly cast to a compatible dtype first.\n",
      "\n",
      "/var/folders/nx/db9dkdfd0wd2m2zb8tr42rm40000gn/T/ipykernel_24507/559099524.py:211: FutureWarning:\n",
      "\n",
      "Setting an item of incompatible dtype is deprecated and will raise in a future error of pandas. Value '-2.844305711052096' has dtype incompatible with int64, please explicitly cast to a compatible dtype first.\n",
      "\n"
     ]
    },
    {
     "name": "stdout",
     "output_type": "stream",
     "text": [
      "FLIGHT: flight_datalake/FLT44_BSB.csv\n",
      "TOT_DIST: 14.9\n",
      "flight_datalake/FLT44_BSB.csv PROCESSED AND SAVED!\n"
     ]
    },
    {
     "name": "stderr",
     "output_type": "stream",
     "text": [
      "/var/folders/nx/db9dkdfd0wd2m2zb8tr42rm40000gn/T/ipykernel_24507/559099524.py:109: FutureWarning:\n",
      "\n",
      "Setting an item of incompatible dtype is deprecated and will raise in a future error of pandas. Value '0.08406359896117618' has dtype incompatible with int64, please explicitly cast to a compatible dtype first.\n",
      "\n",
      "/var/folders/nx/db9dkdfd0wd2m2zb8tr42rm40000gn/T/ipykernel_24507/559099524.py:122: FutureWarning:\n",
      "\n",
      "Setting an item of incompatible dtype is deprecated and will raise in a future error of pandas. Value '0.08' has dtype incompatible with int64, please explicitly cast to a compatible dtype first.\n",
      "\n",
      "/var/folders/nx/db9dkdfd0wd2m2zb8tr42rm40000gn/T/ipykernel_24507/559099524.py:211: FutureWarning:\n",
      "\n",
      "Setting an item of incompatible dtype is deprecated and will raise in a future error of pandas. Value '-6.9216307854166725' has dtype incompatible with int64, please explicitly cast to a compatible dtype first.\n",
      "\n"
     ]
    },
    {
     "name": "stdout",
     "output_type": "stream",
     "text": [
      "FLIGHT: flight_datalake/FLT12_BSB.csv\n",
      "TOT_DIST: 25.1\n",
      "flight_datalake/FLT12_BSB.csv PROCESSED AND SAVED!\n"
     ]
    },
    {
     "name": "stderr",
     "output_type": "stream",
     "text": [
      "/var/folders/nx/db9dkdfd0wd2m2zb8tr42rm40000gn/T/ipykernel_24507/559099524.py:109: FutureWarning:\n",
      "\n",
      "Setting an item of incompatible dtype is deprecated and will raise in a future error of pandas. Value '0.051744033565063234' has dtype incompatible with int64, please explicitly cast to a compatible dtype first.\n",
      "\n",
      "/var/folders/nx/db9dkdfd0wd2m2zb8tr42rm40000gn/T/ipykernel_24507/559099524.py:122: FutureWarning:\n",
      "\n",
      "Setting an item of incompatible dtype is deprecated and will raise in a future error of pandas. Value '0.05' has dtype incompatible with int64, please explicitly cast to a compatible dtype first.\n",
      "\n",
      "/var/folders/nx/db9dkdfd0wd2m2zb8tr42rm40000gn/T/ipykernel_24507/559099524.py:211: FutureWarning:\n",
      "\n",
      "Setting an item of incompatible dtype is deprecated and will raise in a future error of pandas. Value '-3.9796402979385403' has dtype incompatible with int64, please explicitly cast to a compatible dtype first.\n",
      "\n"
     ]
    },
    {
     "name": "stdout",
     "output_type": "stream",
     "text": [
      "FLIGHT: flight_datalake/FLT47_VCP.csv\n",
      "TOT_DIST: 8.7\n",
      "flight_datalake/FLT47_VCP.csv PROCESSED AND SAVED!\n"
     ]
    },
    {
     "name": "stderr",
     "output_type": "stream",
     "text": [
      "/var/folders/nx/db9dkdfd0wd2m2zb8tr42rm40000gn/T/ipykernel_24507/559099524.py:109: FutureWarning:\n",
      "\n",
      "Setting an item of incompatible dtype is deprecated and will raise in a future error of pandas. Value '0.5497016279970781' has dtype incompatible with int64, please explicitly cast to a compatible dtype first.\n",
      "\n",
      "/var/folders/nx/db9dkdfd0wd2m2zb8tr42rm40000gn/T/ipykernel_24507/559099524.py:122: FutureWarning:\n",
      "\n",
      "Setting an item of incompatible dtype is deprecated and will raise in a future error of pandas. Value '0.55' has dtype incompatible with int64, please explicitly cast to a compatible dtype first.\n",
      "\n",
      "/var/folders/nx/db9dkdfd0wd2m2zb8tr42rm40000gn/T/ipykernel_24507/559099524.py:211: FutureWarning:\n",
      "\n",
      "Setting an item of incompatible dtype is deprecated and will raise in a future error of pandas. Value '0.4065496396934195' has dtype incompatible with int64, please explicitly cast to a compatible dtype first.\n",
      "\n"
     ]
    },
    {
     "name": "stdout",
     "output_type": "stream",
     "text": [
      "FLIGHT: flight_datalake/FLT13_MAO.csv\n",
      "TOT_DIST: 83.7\n",
      "flight_datalake/FLT13_MAO.csv PROCESSED AND SAVED!\n"
     ]
    },
    {
     "name": "stderr",
     "output_type": "stream",
     "text": [
      "/var/folders/nx/db9dkdfd0wd2m2zb8tr42rm40000gn/T/ipykernel_24507/559099524.py:109: FutureWarning:\n",
      "\n",
      "Setting an item of incompatible dtype is deprecated and will raise in a future error of pandas. Value '0.06801726523936719' has dtype incompatible with int64, please explicitly cast to a compatible dtype first.\n",
      "\n",
      "/var/folders/nx/db9dkdfd0wd2m2zb8tr42rm40000gn/T/ipykernel_24507/559099524.py:122: FutureWarning:\n",
      "\n",
      "Setting an item of incompatible dtype is deprecated and will raise in a future error of pandas. Value '0.07' has dtype incompatible with int64, please explicitly cast to a compatible dtype first.\n",
      "\n",
      "/var/folders/nx/db9dkdfd0wd2m2zb8tr42rm40000gn/T/ipykernel_24507/559099524.py:211: FutureWarning:\n",
      "\n",
      "Setting an item of incompatible dtype is deprecated and will raise in a future error of pandas. Value '-9.787959465388843' has dtype incompatible with int64, please explicitly cast to a compatible dtype first.\n",
      "\n"
     ]
    },
    {
     "name": "stdout",
     "output_type": "stream",
     "text": [
      "FLIGHT: flight_datalake/FLT46_BSB.csv\n",
      "TOT_DIST: 15.6\n",
      "flight_datalake/FLT46_BSB.csv PROCESSED AND SAVED!\n"
     ]
    },
    {
     "name": "stderr",
     "output_type": "stream",
     "text": [
      "/var/folders/nx/db9dkdfd0wd2m2zb8tr42rm40000gn/T/ipykernel_24507/559099524.py:109: FutureWarning:\n",
      "\n",
      "Setting an item of incompatible dtype is deprecated and will raise in a future error of pandas. Value '0.640952006880997' has dtype incompatible with int64, please explicitly cast to a compatible dtype first.\n",
      "\n",
      "/var/folders/nx/db9dkdfd0wd2m2zb8tr42rm40000gn/T/ipykernel_24507/559099524.py:122: FutureWarning:\n",
      "\n",
      "Setting an item of incompatible dtype is deprecated and will raise in a future error of pandas. Value '0.64' has dtype incompatible with int64, please explicitly cast to a compatible dtype first.\n",
      "\n"
     ]
    },
    {
     "name": "stdout",
     "output_type": "stream",
     "text": [
      "FLIGHT: flight_datalake/FLT12_MAO.csv\n",
      "TOT_DIST: 82.5\n",
      "flight_datalake/FLT12_MAO.csv PROCESSED AND SAVED!\n"
     ]
    },
    {
     "name": "stderr",
     "output_type": "stream",
     "text": [
      "/var/folders/nx/db9dkdfd0wd2m2zb8tr42rm40000gn/T/ipykernel_24507/559099524.py:109: FutureWarning:\n",
      "\n",
      "Setting an item of incompatible dtype is deprecated and will raise in a future error of pandas. Value '0.11578480696590653' has dtype incompatible with int64, please explicitly cast to a compatible dtype first.\n",
      "\n",
      "/var/folders/nx/db9dkdfd0wd2m2zb8tr42rm40000gn/T/ipykernel_24507/559099524.py:122: FutureWarning:\n",
      "\n",
      "Setting an item of incompatible dtype is deprecated and will raise in a future error of pandas. Value '0.12' has dtype incompatible with int64, please explicitly cast to a compatible dtype first.\n",
      "\n",
      "/var/folders/nx/db9dkdfd0wd2m2zb8tr42rm40000gn/T/ipykernel_24507/559099524.py:211: FutureWarning:\n",
      "\n",
      "Setting an item of incompatible dtype is deprecated and will raise in a future error of pandas. Value '1.4750262347163479' has dtype incompatible with int64, please explicitly cast to a compatible dtype first.\n",
      "\n"
     ]
    },
    {
     "name": "stdout",
     "output_type": "stream",
     "text": [
      "FLIGHT: flight_datalake/FLT47_BSB.csv\n",
      "TOT_DIST: 22.0\n",
      "flight_datalake/FLT47_BSB.csv PROCESSED AND SAVED!\n"
     ]
    },
    {
     "name": "stderr",
     "output_type": "stream",
     "text": [
      "/var/folders/nx/db9dkdfd0wd2m2zb8tr42rm40000gn/T/ipykernel_24507/559099524.py:109: FutureWarning:\n",
      "\n",
      "Setting an item of incompatible dtype is deprecated and will raise in a future error of pandas. Value '0.04211917644669641' has dtype incompatible with int64, please explicitly cast to a compatible dtype first.\n",
      "\n",
      "/var/folders/nx/db9dkdfd0wd2m2zb8tr42rm40000gn/T/ipykernel_24507/559099524.py:122: FutureWarning:\n",
      "\n",
      "Setting an item of incompatible dtype is deprecated and will raise in a future error of pandas. Value '0.04' has dtype incompatible with int64, please explicitly cast to a compatible dtype first.\n",
      "\n",
      "/var/folders/nx/db9dkdfd0wd2m2zb8tr42rm40000gn/T/ipykernel_24507/559099524.py:211: FutureWarning:\n",
      "\n",
      "Setting an item of incompatible dtype is deprecated and will raise in a future error of pandas. Value '3.5825365724754694' has dtype incompatible with int64, please explicitly cast to a compatible dtype first.\n",
      "\n"
     ]
    },
    {
     "name": "stdout",
     "output_type": "stream",
     "text": [
      "FLIGHT: flight_datalake/FLT46_VCP.csv\n",
      "TOT_DIST: 14.0\n",
      "flight_datalake/FLT46_VCP.csv PROCESSED AND SAVED!\n"
     ]
    },
    {
     "name": "stderr",
     "output_type": "stream",
     "text": [
      "/var/folders/nx/db9dkdfd0wd2m2zb8tr42rm40000gn/T/ipykernel_24507/559099524.py:109: FutureWarning:\n",
      "\n",
      "Setting an item of incompatible dtype is deprecated and will raise in a future error of pandas. Value '0.20858718388620165' has dtype incompatible with int64, please explicitly cast to a compatible dtype first.\n",
      "\n",
      "/var/folders/nx/db9dkdfd0wd2m2zb8tr42rm40000gn/T/ipykernel_24507/559099524.py:122: FutureWarning:\n",
      "\n",
      "Setting an item of incompatible dtype is deprecated and will raise in a future error of pandas. Value '0.21' has dtype incompatible with int64, please explicitly cast to a compatible dtype first.\n",
      "\n",
      "/var/folders/nx/db9dkdfd0wd2m2zb8tr42rm40000gn/T/ipykernel_24507/559099524.py:211: FutureWarning:\n",
      "\n",
      "Setting an item of incompatible dtype is deprecated and will raise in a future error of pandas. Value '8.83174726519138' has dtype incompatible with int64, please explicitly cast to a compatible dtype first.\n",
      "\n"
     ]
    },
    {
     "name": "stdout",
     "output_type": "stream",
     "text": [
      "FLIGHT: flight_datalake/FLT13_BSB.csv\n",
      "TOT_DIST: 22.1\n",
      "flight_datalake/FLT13_BSB.csv PROCESSED AND SAVED!\n"
     ]
    },
    {
     "name": "stderr",
     "output_type": "stream",
     "text": [
      "/var/folders/nx/db9dkdfd0wd2m2zb8tr42rm40000gn/T/ipykernel_24507/559099524.py:109: FutureWarning:\n",
      "\n",
      "Setting an item of incompatible dtype is deprecated and will raise in a future error of pandas. Value '0.07125821334467188' has dtype incompatible with int64, please explicitly cast to a compatible dtype first.\n",
      "\n",
      "/var/folders/nx/db9dkdfd0wd2m2zb8tr42rm40000gn/T/ipykernel_24507/559099524.py:122: FutureWarning:\n",
      "\n",
      "Setting an item of incompatible dtype is deprecated and will raise in a future error of pandas. Value '0.07' has dtype incompatible with int64, please explicitly cast to a compatible dtype first.\n",
      "\n"
     ]
    },
    {
     "name": "stdout",
     "output_type": "stream",
     "text": [
      "FLIGHT: flight_datalake/FLT43_VCP.csv\n",
      "TOT_DIST: 9.6\n",
      "flight_datalake/FLT43_VCP.csv PROCESSED AND SAVED!\n"
     ]
    },
    {
     "name": "stderr",
     "output_type": "stream",
     "text": [
      "/var/folders/nx/db9dkdfd0wd2m2zb8tr42rm40000gn/T/ipykernel_24507/559099524.py:109: FutureWarning:\n",
      "\n",
      "Setting an item of incompatible dtype is deprecated and will raise in a future error of pandas. Value '0.06288071595632938' has dtype incompatible with int64, please explicitly cast to a compatible dtype first.\n",
      "\n",
      "/var/folders/nx/db9dkdfd0wd2m2zb8tr42rm40000gn/T/ipykernel_24507/559099524.py:122: FutureWarning:\n",
      "\n",
      "Setting an item of incompatible dtype is deprecated and will raise in a future error of pandas. Value '0.06' has dtype incompatible with int64, please explicitly cast to a compatible dtype first.\n",
      "\n",
      "/var/folders/nx/db9dkdfd0wd2m2zb8tr42rm40000gn/T/ipykernel_24507/559099524.py:211: FutureWarning:\n",
      "\n",
      "Setting an item of incompatible dtype is deprecated and will raise in a future error of pandas. Value '-3.0165470936647365' has dtype incompatible with int64, please explicitly cast to a compatible dtype first.\n",
      "\n"
     ]
    },
    {
     "name": "stdout",
     "output_type": "stream",
     "text": [
      "FLIGHT: flight_datalake/FLT16_BSB.csv\n",
      "TOT_DIST: 13.6\n",
      "flight_datalake/FLT16_BSB.csv PROCESSED AND SAVED!\n"
     ]
    },
    {
     "name": "stderr",
     "output_type": "stream",
     "text": [
      "/var/folders/nx/db9dkdfd0wd2m2zb8tr42rm40000gn/T/ipykernel_24507/559099524.py:109: FutureWarning:\n",
      "\n",
      "Setting an item of incompatible dtype is deprecated and will raise in a future error of pandas. Value '0.07398173243583857' has dtype incompatible with int64, please explicitly cast to a compatible dtype first.\n",
      "\n",
      "/var/folders/nx/db9dkdfd0wd2m2zb8tr42rm40000gn/T/ipykernel_24507/559099524.py:122: FutureWarning:\n",
      "\n",
      "Setting an item of incompatible dtype is deprecated and will raise in a future error of pandas. Value '0.07' has dtype incompatible with int64, please explicitly cast to a compatible dtype first.\n",
      "\n",
      "/var/folders/nx/db9dkdfd0wd2m2zb8tr42rm40000gn/T/ipykernel_24507/559099524.py:211: FutureWarning:\n",
      "\n",
      "Setting an item of incompatible dtype is deprecated and will raise in a future error of pandas. Value '2.9661908014398164' has dtype incompatible with int64, please explicitly cast to a compatible dtype first.\n",
      "\n"
     ]
    },
    {
     "name": "stdout",
     "output_type": "stream",
     "text": [
      "FLIGHT: flight_datalake/FLT42_BSB.csv\n",
      "TOT_DIST: 16.2\n",
      "flight_datalake/FLT42_BSB.csv PROCESSED AND SAVED!\n"
     ]
    },
    {
     "name": "stderr",
     "output_type": "stream",
     "text": [
      "/var/folders/nx/db9dkdfd0wd2m2zb8tr42rm40000gn/T/ipykernel_24507/559099524.py:109: FutureWarning:\n",
      "\n",
      "Setting an item of incompatible dtype is deprecated and will raise in a future error of pandas. Value '0.6571069452442158' has dtype incompatible with int64, please explicitly cast to a compatible dtype first.\n",
      "\n",
      "/var/folders/nx/db9dkdfd0wd2m2zb8tr42rm40000gn/T/ipykernel_24507/559099524.py:122: FutureWarning:\n",
      "\n",
      "Setting an item of incompatible dtype is deprecated and will raise in a future error of pandas. Value '0.66' has dtype incompatible with int64, please explicitly cast to a compatible dtype first.\n",
      "\n",
      "/var/folders/nx/db9dkdfd0wd2m2zb8tr42rm40000gn/T/ipykernel_24507/559099524.py:211: FutureWarning:\n",
      "\n",
      "Setting an item of incompatible dtype is deprecated and will raise in a future error of pandas. Value '3.7139487762646564' has dtype incompatible with int64, please explicitly cast to a compatible dtype first.\n",
      "\n"
     ]
    },
    {
     "name": "stdout",
     "output_type": "stream",
     "text": [
      "FLIGHT: flight_datalake/FLT17_MAO.csv\n",
      "TOT_DIST: 67.6\n",
      "flight_datalake/FLT17_MAO.csv PROCESSED AND SAVED!\n"
     ]
    },
    {
     "name": "stderr",
     "output_type": "stream",
     "text": [
      "/var/folders/nx/db9dkdfd0wd2m2zb8tr42rm40000gn/T/ipykernel_24507/559099524.py:109: FutureWarning:\n",
      "\n",
      "Setting an item of incompatible dtype is deprecated and will raise in a future error of pandas. Value '0.08209455157142985' has dtype incompatible with int64, please explicitly cast to a compatible dtype first.\n",
      "\n",
      "/var/folders/nx/db9dkdfd0wd2m2zb8tr42rm40000gn/T/ipykernel_24507/559099524.py:122: FutureWarning:\n",
      "\n",
      "Setting an item of incompatible dtype is deprecated and will raise in a future error of pandas. Value '0.08' has dtype incompatible with int64, please explicitly cast to a compatible dtype first.\n",
      "\n",
      "/var/folders/nx/db9dkdfd0wd2m2zb8tr42rm40000gn/T/ipykernel_24507/559099524.py:211: FutureWarning:\n",
      "\n",
      "Setting an item of incompatible dtype is deprecated and will raise in a future error of pandas. Value '-0.9899371144211803' has dtype incompatible with int64, please explicitly cast to a compatible dtype first.\n",
      "\n"
     ]
    },
    {
     "name": "stdout",
     "output_type": "stream",
     "text": [
      "FLIGHT: flight_datalake/FLT20_BSB.csv\n",
      "TOT_DIST: 26.9\n",
      "flight_datalake/FLT20_BSB.csv PROCESSED AND SAVED!\n"
     ]
    },
    {
     "name": "stderr",
     "output_type": "stream",
     "text": [
      "/var/folders/nx/db9dkdfd0wd2m2zb8tr42rm40000gn/T/ipykernel_24507/559099524.py:109: FutureWarning:\n",
      "\n",
      "Setting an item of incompatible dtype is deprecated and will raise in a future error of pandas. Value '0.06639350984417493' has dtype incompatible with int64, please explicitly cast to a compatible dtype first.\n",
      "\n",
      "/var/folders/nx/db9dkdfd0wd2m2zb8tr42rm40000gn/T/ipykernel_24507/559099524.py:122: FutureWarning:\n",
      "\n",
      "Setting an item of incompatible dtype is deprecated and will raise in a future error of pandas. Value '0.07' has dtype incompatible with int64, please explicitly cast to a compatible dtype first.\n",
      "\n",
      "/var/folders/nx/db9dkdfd0wd2m2zb8tr42rm40000gn/T/ipykernel_24507/559099524.py:211: FutureWarning:\n",
      "\n",
      "Setting an item of incompatible dtype is deprecated and will raise in a future error of pandas. Value '7.364584279030601' has dtype incompatible with int64, please explicitly cast to a compatible dtype first.\n",
      "\n"
     ]
    },
    {
     "name": "stdout",
     "output_type": "stream",
     "text": [
      "FLIGHT: flight_datalake/FLT43_BSB.csv\n",
      "TOT_DIST: 16.8\n",
      "flight_datalake/FLT43_BSB.csv PROCESSED AND SAVED!\n"
     ]
    },
    {
     "name": "stderr",
     "output_type": "stream",
     "text": [
      "/var/folders/nx/db9dkdfd0wd2m2zb8tr42rm40000gn/T/ipykernel_24507/559099524.py:109: FutureWarning:\n",
      "\n",
      "Setting an item of incompatible dtype is deprecated and will raise in a future error of pandas. Value '0.07908592616296073' has dtype incompatible with int64, please explicitly cast to a compatible dtype first.\n",
      "\n",
      "/var/folders/nx/db9dkdfd0wd2m2zb8tr42rm40000gn/T/ipykernel_24507/559099524.py:122: FutureWarning:\n",
      "\n",
      "Setting an item of incompatible dtype is deprecated and will raise in a future error of pandas. Value '0.08' has dtype incompatible with int64, please explicitly cast to a compatible dtype first.\n",
      "\n",
      "/var/folders/nx/db9dkdfd0wd2m2zb8tr42rm40000gn/T/ipykernel_24507/559099524.py:211: FutureWarning:\n",
      "\n",
      "Setting an item of incompatible dtype is deprecated and will raise in a future error of pandas. Value '0.8148243730938934' has dtype incompatible with int64, please explicitly cast to a compatible dtype first.\n",
      "\n"
     ]
    },
    {
     "name": "stdout",
     "output_type": "stream",
     "text": [
      "FLIGHT: flight_datalake/FLT17_BSB.csv\n",
      "TOT_DIST: 15.8\n",
      "flight_datalake/FLT17_BSB.csv PROCESSED AND SAVED!\n"
     ]
    },
    {
     "name": "stderr",
     "output_type": "stream",
     "text": [
      "/var/folders/nx/db9dkdfd0wd2m2zb8tr42rm40000gn/T/ipykernel_24507/559099524.py:109: FutureWarning:\n",
      "\n",
      "Setting an item of incompatible dtype is deprecated and will raise in a future error of pandas. Value '0.052016789827741085' has dtype incompatible with int64, please explicitly cast to a compatible dtype first.\n",
      "\n",
      "/var/folders/nx/db9dkdfd0wd2m2zb8tr42rm40000gn/T/ipykernel_24507/559099524.py:122: FutureWarning:\n",
      "\n",
      "Setting an item of incompatible dtype is deprecated and will raise in a future error of pandas. Value '0.05' has dtype incompatible with int64, please explicitly cast to a compatible dtype first.\n",
      "\n"
     ]
    },
    {
     "name": "stdout",
     "output_type": "stream",
     "text": [
      "FLIGHT: flight_datalake/FLT42_VCP.csv\n",
      "TOT_DIST: 10.5\n",
      "flight_datalake/FLT42_VCP.csv PROCESSED AND SAVED!\n"
     ]
    },
    {
     "name": "stderr",
     "output_type": "stream",
     "text": [
      "/var/folders/nx/db9dkdfd0wd2m2zb8tr42rm40000gn/T/ipykernel_24507/559099524.py:109: FutureWarning:\n",
      "\n",
      "Setting an item of incompatible dtype is deprecated and will raise in a future error of pandas. Value '0.064079991115925' has dtype incompatible with int64, please explicitly cast to a compatible dtype first.\n",
      "\n",
      "/var/folders/nx/db9dkdfd0wd2m2zb8tr42rm40000gn/T/ipykernel_24507/559099524.py:122: FutureWarning:\n",
      "\n",
      "Setting an item of incompatible dtype is deprecated and will raise in a future error of pandas. Value '0.06' has dtype incompatible with int64, please explicitly cast to a compatible dtype first.\n",
      "\n"
     ]
    },
    {
     "name": "stdout",
     "output_type": "stream",
     "text": [
      "FLIGHT: flight_datalake/FLT41_BSB.csv\n",
      "TOT_DIST: 16.6\n",
      "flight_datalake/FLT41_BSB.csv PROCESSED AND SAVED!\n"
     ]
    },
    {
     "name": "stderr",
     "output_type": "stream",
     "text": [
      "/var/folders/nx/db9dkdfd0wd2m2zb8tr42rm40000gn/T/ipykernel_24507/559099524.py:109: FutureWarning:\n",
      "\n",
      "Setting an item of incompatible dtype is deprecated and will raise in a future error of pandas. Value '0.07064084144214892' has dtype incompatible with int64, please explicitly cast to a compatible dtype first.\n",
      "\n",
      "/var/folders/nx/db9dkdfd0wd2m2zb8tr42rm40000gn/T/ipykernel_24507/559099524.py:122: FutureWarning:\n",
      "\n",
      "Setting an item of incompatible dtype is deprecated and will raise in a future error of pandas. Value '0.07' has dtype incompatible with int64, please explicitly cast to a compatible dtype first.\n",
      "\n",
      "/var/folders/nx/db9dkdfd0wd2m2zb8tr42rm40000gn/T/ipykernel_24507/559099524.py:211: FutureWarning:\n",
      "\n",
      "Setting an item of incompatible dtype is deprecated and will raise in a future error of pandas. Value '-3.6606833529701905' has dtype incompatible with int64, please explicitly cast to a compatible dtype first.\n",
      "\n"
     ]
    },
    {
     "name": "stdout",
     "output_type": "stream",
     "text": [
      "FLIGHT: flight_datalake/FLT49_VCP.csv\n",
      "TOT_DIST: 12.0\n",
      "flight_datalake/FLT49_VCP.csv PROCESSED AND SAVED!\n"
     ]
    },
    {
     "name": "stderr",
     "output_type": "stream",
     "text": [
      "/var/folders/nx/db9dkdfd0wd2m2zb8tr42rm40000gn/T/ipykernel_24507/559099524.py:109: FutureWarning:\n",
      "\n",
      "Setting an item of incompatible dtype is deprecated and will raise in a future error of pandas. Value '0.0862018716947621' has dtype incompatible with int64, please explicitly cast to a compatible dtype first.\n",
      "\n",
      "/var/folders/nx/db9dkdfd0wd2m2zb8tr42rm40000gn/T/ipykernel_24507/559099524.py:122: FutureWarning:\n",
      "\n",
      "Setting an item of incompatible dtype is deprecated and will raise in a future error of pandas. Value '0.09' has dtype incompatible with int64, please explicitly cast to a compatible dtype first.\n",
      "\n",
      "/var/folders/nx/db9dkdfd0wd2m2zb8tr42rm40000gn/T/ipykernel_24507/559099524.py:211: FutureWarning:\n",
      "\n",
      "Setting an item of incompatible dtype is deprecated and will raise in a future error of pandas. Value '-6.517676517476882' has dtype incompatible with int64, please explicitly cast to a compatible dtype first.\n",
      "\n"
     ]
    },
    {
     "name": "stdout",
     "output_type": "stream",
     "text": [
      "FLIGHT: flight_datalake/FLT48_BSB.csv\n",
      "TOT_DIST: 15.8\n",
      "flight_datalake/FLT48_BSB.csv PROCESSED AND SAVED!\n"
     ]
    },
    {
     "name": "stderr",
     "output_type": "stream",
     "text": [
      "/var/folders/nx/db9dkdfd0wd2m2zb8tr42rm40000gn/T/ipykernel_24507/559099524.py:109: FutureWarning:\n",
      "\n",
      "Setting an item of incompatible dtype is deprecated and will raise in a future error of pandas. Value '0.06731367790971651' has dtype incompatible with int64, please explicitly cast to a compatible dtype first.\n",
      "\n",
      "/var/folders/nx/db9dkdfd0wd2m2zb8tr42rm40000gn/T/ipykernel_24507/559099524.py:122: FutureWarning:\n",
      "\n",
      "Setting an item of incompatible dtype is deprecated and will raise in a future error of pandas. Value '0.07' has dtype incompatible with int64, please explicitly cast to a compatible dtype first.\n",
      "\n",
      "/var/folders/nx/db9dkdfd0wd2m2zb8tr42rm40000gn/T/ipykernel_24507/559099524.py:211: FutureWarning:\n",
      "\n",
      "Setting an item of incompatible dtype is deprecated and will raise in a future error of pandas. Value '12.185411613942051' has dtype incompatible with int64, please explicitly cast to a compatible dtype first.\n",
      "\n"
     ]
    },
    {
     "name": "stdout",
     "output_type": "stream",
     "text": [
      "FLIGHT: flight_datalake/FLT15_BSB.csv\n",
      "TOT_DIST: 15.0\n",
      "flight_datalake/FLT15_BSB.csv PROCESSED AND SAVED!\n"
     ]
    },
    {
     "name": "stderr",
     "output_type": "stream",
     "text": [
      "/var/folders/nx/db9dkdfd0wd2m2zb8tr42rm40000gn/T/ipykernel_24507/559099524.py:109: FutureWarning:\n",
      "\n",
      "Setting an item of incompatible dtype is deprecated and will raise in a future error of pandas. Value '0.0597774336025043' has dtype incompatible with int64, please explicitly cast to a compatible dtype first.\n",
      "\n",
      "/var/folders/nx/db9dkdfd0wd2m2zb8tr42rm40000gn/T/ipykernel_24507/559099524.py:122: FutureWarning:\n",
      "\n",
      "Setting an item of incompatible dtype is deprecated and will raise in a future error of pandas. Value '0.06' has dtype incompatible with int64, please explicitly cast to a compatible dtype first.\n",
      "\n"
     ]
    },
    {
     "name": "stdout",
     "output_type": "stream",
     "text": [
      "FLIGHT: flight_datalake/FLT50_VCP.csv\n",
      "TOT_DIST: 11.9\n",
      "flight_datalake/FLT50_VCP.csv PROCESSED AND SAVED!\n"
     ]
    },
    {
     "name": "stderr",
     "output_type": "stream",
     "text": [
      "/var/folders/nx/db9dkdfd0wd2m2zb8tr42rm40000gn/T/ipykernel_24507/559099524.py:109: FutureWarning:\n",
      "\n",
      "Setting an item of incompatible dtype is deprecated and will raise in a future error of pandas. Value '0.06437241091480414' has dtype incompatible with int64, please explicitly cast to a compatible dtype first.\n",
      "\n",
      "/var/folders/nx/db9dkdfd0wd2m2zb8tr42rm40000gn/T/ipykernel_24507/559099524.py:122: FutureWarning:\n",
      "\n",
      "Setting an item of incompatible dtype is deprecated and will raise in a future error of pandas. Value '0.06' has dtype incompatible with int64, please explicitly cast to a compatible dtype first.\n",
      "\n",
      "/var/folders/nx/db9dkdfd0wd2m2zb8tr42rm40000gn/T/ipykernel_24507/559099524.py:211: FutureWarning:\n",
      "\n",
      "Setting an item of incompatible dtype is deprecated and will raise in a future error of pandas. Value '4.5087754068943084' has dtype incompatible with int64, please explicitly cast to a compatible dtype first.\n",
      "\n"
     ]
    },
    {
     "name": "stdout",
     "output_type": "stream",
     "text": [
      "FLIGHT: flight_datalake/FLT49_BSB.csv\n",
      "TOT_DIST: 15.1\n",
      "flight_datalake/FLT49_BSB.csv PROCESSED AND SAVED!\n"
     ]
    },
    {
     "name": "stderr",
     "output_type": "stream",
     "text": [
      "/var/folders/nx/db9dkdfd0wd2m2zb8tr42rm40000gn/T/ipykernel_24507/559099524.py:109: FutureWarning:\n",
      "\n",
      "Setting an item of incompatible dtype is deprecated and will raise in a future error of pandas. Value '0.041553120385168965' has dtype incompatible with int64, please explicitly cast to a compatible dtype first.\n",
      "\n",
      "/var/folders/nx/db9dkdfd0wd2m2zb8tr42rm40000gn/T/ipykernel_24507/559099524.py:122: FutureWarning:\n",
      "\n",
      "Setting an item of incompatible dtype is deprecated and will raise in a future error of pandas. Value '0.04' has dtype incompatible with int64, please explicitly cast to a compatible dtype first.\n",
      "\n"
     ]
    },
    {
     "name": "stdout",
     "output_type": "stream",
     "text": [
      "FLIGHT: flight_datalake/FLT41_VCP.csv\n",
      "TOT_DIST: 9.7\n",
      "flight_datalake/FLT41_VCP.csv PROCESSED AND SAVED!\n"
     ]
    },
    {
     "name": "stderr",
     "output_type": "stream",
     "text": [
      "/var/folders/nx/db9dkdfd0wd2m2zb8tr42rm40000gn/T/ipykernel_24507/559099524.py:109: FutureWarning:\n",
      "\n",
      "Setting an item of incompatible dtype is deprecated and will raise in a future error of pandas. Value '0.07590426093769626' has dtype incompatible with int64, please explicitly cast to a compatible dtype first.\n",
      "\n",
      "/var/folders/nx/db9dkdfd0wd2m2zb8tr42rm40000gn/T/ipykernel_24507/559099524.py:122: FutureWarning:\n",
      "\n",
      "Setting an item of incompatible dtype is deprecated and will raise in a future error of pandas. Value '0.08' has dtype incompatible with int64, please explicitly cast to a compatible dtype first.\n",
      "\n",
      "/var/folders/nx/db9dkdfd0wd2m2zb8tr42rm40000gn/T/ipykernel_24507/559099524.py:211: FutureWarning:\n",
      "\n",
      "Setting an item of incompatible dtype is deprecated and will raise in a future error of pandas. Value '2.5373032954412906' has dtype incompatible with int64, please explicitly cast to a compatible dtype first.\n",
      "\n"
     ]
    },
    {
     "name": "stdout",
     "output_type": "stream",
     "text": [
      "FLIGHT: flight_datalake/FLT14_BSB.csv\n",
      "TOT_DIST: 16.7\n",
      "flight_datalake/FLT14_BSB.csv PROCESSED AND SAVED!\n"
     ]
    },
    {
     "name": "stderr",
     "output_type": "stream",
     "text": [
      "/var/folders/nx/db9dkdfd0wd2m2zb8tr42rm40000gn/T/ipykernel_24507/559099524.py:109: FutureWarning:\n",
      "\n",
      "Setting an item of incompatible dtype is deprecated and will raise in a future error of pandas. Value '0.6867392543170556' has dtype incompatible with int64, please explicitly cast to a compatible dtype first.\n",
      "\n",
      "/var/folders/nx/db9dkdfd0wd2m2zb8tr42rm40000gn/T/ipykernel_24507/559099524.py:122: FutureWarning:\n",
      "\n",
      "Setting an item of incompatible dtype is deprecated and will raise in a future error of pandas. Value '0.69' has dtype incompatible with int64, please explicitly cast to a compatible dtype first.\n",
      "\n"
     ]
    },
    {
     "name": "stdout",
     "output_type": "stream",
     "text": [
      "FLIGHT: flight_datalake/FLT15_MAO.csv\n",
      "TOT_DIST: 67.6\n",
      "flight_datalake/FLT15_MAO.csv PROCESSED AND SAVED!\n"
     ]
    },
    {
     "name": "stderr",
     "output_type": "stream",
     "text": [
      "/var/folders/nx/db9dkdfd0wd2m2zb8tr42rm40000gn/T/ipykernel_24507/559099524.py:109: FutureWarning:\n",
      "\n",
      "Setting an item of incompatible dtype is deprecated and will raise in a future error of pandas. Value '0.062234575389844095' has dtype incompatible with int64, please explicitly cast to a compatible dtype first.\n",
      "\n",
      "/var/folders/nx/db9dkdfd0wd2m2zb8tr42rm40000gn/T/ipykernel_24507/559099524.py:122: FutureWarning:\n",
      "\n",
      "Setting an item of incompatible dtype is deprecated and will raise in a future error of pandas. Value '0.06' has dtype incompatible with int64, please explicitly cast to a compatible dtype first.\n",
      "\n",
      "/var/folders/nx/db9dkdfd0wd2m2zb8tr42rm40000gn/T/ipykernel_24507/559099524.py:211: FutureWarning:\n",
      "\n",
      "Setting an item of incompatible dtype is deprecated and will raise in a future error of pandas. Value '2.3033229036401766' has dtype incompatible with int64, please explicitly cast to a compatible dtype first.\n",
      "\n"
     ]
    },
    {
     "name": "stdout",
     "output_type": "stream",
     "text": [
      "FLIGHT: flight_datalake/FLT50_BSB.csv\n",
      "TOT_DIST: 18.3\n",
      "flight_datalake/FLT50_BSB.csv PROCESSED AND SAVED!\n"
     ]
    },
    {
     "name": "stderr",
     "output_type": "stream",
     "text": [
      "/var/folders/nx/db9dkdfd0wd2m2zb8tr42rm40000gn/T/ipykernel_24507/559099524.py:109: FutureWarning:\n",
      "\n",
      "Setting an item of incompatible dtype is deprecated and will raise in a future error of pandas. Value '0.055695439404626616' has dtype incompatible with int64, please explicitly cast to a compatible dtype first.\n",
      "\n",
      "/var/folders/nx/db9dkdfd0wd2m2zb8tr42rm40000gn/T/ipykernel_24507/559099524.py:122: FutureWarning:\n",
      "\n",
      "Setting an item of incompatible dtype is deprecated and will raise in a future error of pandas. Value '0.06' has dtype incompatible with int64, please explicitly cast to a compatible dtype first.\n",
      "\n"
     ]
    },
    {
     "name": "stdout",
     "output_type": "stream",
     "text": [
      "FLIGHT: flight_datalake/FLT48_VCP.csv\n",
      "TOT_DIST: 14.3\n",
      "flight_datalake/FLT48_VCP.csv PROCESSED AND SAVED!\n"
     ]
    }
   ],
   "source": [
    "for data_path in dataPath:\n",
    "    flight_obj = flight_data_analyser(data_path=data_path, airport_ref=data_path.split('_')[2].split('.')[0])\n",
    "    flight_obj.clean_flight_data(flight_data_columns, flight_data_columns_final)\n",
    "    print(\"FLIGHT: \" + data_path)\n",
    "    print(\"TOT_DIST: \" + str(flight_obj.TOT_DIST))\n",
    "    flight_obj.flight_data.to_csv(\"Result_datalake/\" + str(data_path.split('_')[2].replace('.csv', '')) + \"/\" + str(data_path.split('/')[1]), index=False)\n",
    "    print(data_path + \" PROCESSED AND SAVED!\")\n"
   ]
  },
  {
   "cell_type": "markdown",
   "metadata": {},
   "source": [
    "### Result Visualization"
   ]
  },
  {
   "cell_type": "code",
   "execution_count": 12,
   "metadata": {},
   "outputs": [
    {
     "data": {
      "text/plain": [
       "['Result_datalake/BSB/FLT18_BSB.csv',\n",
       " 'Result_datalake/BSB/FLT45_BSB.csv',\n",
       " 'Result_datalake/BSB/FLT11_BSB.csv',\n",
       " 'Result_datalake/BSB/FLT19_BSB.csv',\n",
       " 'Result_datalake/BSB/FLT44_BSB.csv',\n",
       " 'Result_datalake/BSB/FLT12_BSB.csv',\n",
       " 'Result_datalake/BSB/FLT46_BSB.csv',\n",
       " 'Result_datalake/BSB/FLT47_BSB.csv',\n",
       " 'Result_datalake/BSB/FLT13_BSB.csv',\n",
       " 'Result_datalake/BSB/FLT16_BSB.csv',\n",
       " 'Result_datalake/BSB/FLT42_BSB.csv',\n",
       " 'Result_datalake/BSB/FLT20_BSB.csv',\n",
       " 'Result_datalake/BSB/FLT43_BSB.csv',\n",
       " 'Result_datalake/BSB/FLT17_BSB.csv',\n",
       " 'Result_datalake/BSB/FLT41_BSB.csv',\n",
       " 'Result_datalake/BSB/FLT48_BSB.csv',\n",
       " 'Result_datalake/BSB/FLT15_BSB.csv',\n",
       " 'Result_datalake/BSB/FLT49_BSB.csv',\n",
       " 'Result_datalake/BSB/FLT14_BSB.csv',\n",
       " 'Result_datalake/BSB/FLT50_BSB.csv',\n",
       " 'Result_datalake/VCP/FLT44_VCP.csv',\n",
       " 'Result_datalake/VCP/FLT45_VCP.csv',\n",
       " 'Result_datalake/VCP/FLT47_VCP.csv',\n",
       " 'Result_datalake/VCP/FLT46_VCP.csv',\n",
       " 'Result_datalake/VCP/FLT43_VCP.csv',\n",
       " 'Result_datalake/VCP/FLT42_VCP.csv',\n",
       " 'Result_datalake/VCP/FLT49_VCP.csv',\n",
       " 'Result_datalake/VCP/FLT50_VCP.csv',\n",
       " 'Result_datalake/VCP/FLT41_VCP.csv',\n",
       " 'Result_datalake/VCP/FLT48_VCP.csv',\n",
       " 'Result_datalake/MAO/FLT18_MAO.csv',\n",
       " 'Result_datalake/MAO/FLT13_MAO.csv',\n",
       " 'Result_datalake/MAO/FLT12_MAO.csv',\n",
       " 'Result_datalake/MAO/FLT17_MAO.csv',\n",
       " 'Result_datalake/MAO/FLT15_MAO.csv']"
      ]
     },
     "execution_count": 12,
     "metadata": {},
     "output_type": "execute_result"
    }
   ],
   "source": [
    "allResultFiles_BSB = os.listdir(\"Result_datalake/BSB\")\n",
    "allResultFiles_VCP = os.listdir(\"Result_datalake/VCP\")\n",
    "allResultFiles_MAO = os.listdir(\"Result_datalake/MAO\")\n",
    "\n",
    "allResultFiles = allResultFiles_BSB + allResultFiles_VCP + allResultFiles_MAO\n",
    "\n",
    "resultDataPath = []\n",
    "\n",
    "for file in allResultFiles:\n",
    "    if file.endswith(\".csv\"):\n",
    "        resultDataPath.append(\"Result_datalake/\"+ str(file.split('_')[1].replace('.csv', '')) + \"/\" + file)\n",
    "\n",
    "# FLIGHTS SELECTION\n",
    "flights_to_select =[]\n",
    "#######\n",
    "\n",
    "if len(flights_to_select) != 0:\n",
    "    resultDataPath = []\n",
    "    for file in allResultFiles:\n",
    "        for flight in flights_to_select:\n",
    "            if file.__contains__(flight):\n",
    "                resultDataPath.append(f\"Result_datalake/{file}\")\n",
    "\n",
    "resultDataPath"
   ]
  },
  {
   "cell_type": "markdown",
   "metadata": {},
   "source": [
    "### LATERAL PROFILE"
   ]
  },
  {
   "cell_type": "code",
   "execution_count": null,
   "metadata": {},
   "outputs": [],
   "source": [
    "airport_map = fl.Map(zoom_start=11)\n",
    "\n",
    "for data_path in resultDataPath:\n",
    "        flight_obj = pd.read_csv(data_path)\n",
    "\n",
    "        print(f\"\\n\\nLATERAL PROFILE: {str(data_path)}\")\n",
    "        for i in range(1, len(flight_obj)):\n",
    "\n",
    "                msg = f\"FLIGHT: {data_path.split('/')[1].split('.')[0]} | LAT:{flight_obj.loc[i-1, 'LATCORR']} | LON:{flight_obj.loc[i-1, 'LONCORR']} | ALT:{flight_obj.loc[i-1, 'ALTSTDC']} | CAS:{flight_obj.loc[i-1, 'CAS']}\"\n",
    "\n",
    "                fl.PolyLine(tuple([(flight_obj.loc[i-1, \"LATCORR\"], flight_obj.loc[i-1, \"LONCORR\"]),(flight_obj.loc[i, \"LATCORR\"], flight_obj.loc[i, \"LONCORR\"])]), color=flight_obj.loc[i-1, \"COLOR\"], weight=1, opacity=1, tooltip=msg).add_to(airport_map)\n",
    "\n",
    "airport_map"
   ]
  },
  {
   "cell_type": "code",
   "execution_count": 13,
   "metadata": {},
   "outputs": [
    {
     "name": "stdout",
     "output_type": "stream",
     "text": [
      "Result_datalake/BSB/FLT18_BSB.csv\n",
      "\n",
      "\n",
      "VERTICAL PROFILE: Result_datalake/BSB/FLT18_BSB.csv\n",
      "\n",
      "\n",
      "ENERGY PROFILE: Result_datalake/BSB/FLT18_BSB.csv\n",
      "Result_datalake/BSB/FLT45_BSB.csv\n",
      "\n",
      "\n",
      "VERTICAL PROFILE: Result_datalake/BSB/FLT45_BSB.csv\n",
      "\n",
      "\n",
      "ENERGY PROFILE: Result_datalake/BSB/FLT45_BSB.csv\n",
      "Result_datalake/BSB/FLT11_BSB.csv\n",
      "\n",
      "\n",
      "VERTICAL PROFILE: Result_datalake/BSB/FLT11_BSB.csv\n",
      "\n",
      "\n",
      "ENERGY PROFILE: Result_datalake/BSB/FLT11_BSB.csv\n",
      "Result_datalake/BSB/FLT19_BSB.csv\n",
      "\n",
      "\n",
      "VERTICAL PROFILE: Result_datalake/BSB/FLT19_BSB.csv\n",
      "\n",
      "\n",
      "ENERGY PROFILE: Result_datalake/BSB/FLT19_BSB.csv\n",
      "Result_datalake/BSB/FLT44_BSB.csv\n",
      "\n",
      "\n",
      "VERTICAL PROFILE: Result_datalake/BSB/FLT44_BSB.csv\n",
      "\n",
      "\n",
      "ENERGY PROFILE: Result_datalake/BSB/FLT44_BSB.csv\n",
      "Result_datalake/BSB/FLT12_BSB.csv\n",
      "\n",
      "\n",
      "VERTICAL PROFILE: Result_datalake/BSB/FLT12_BSB.csv\n",
      "\n",
      "\n",
      "ENERGY PROFILE: Result_datalake/BSB/FLT12_BSB.csv\n",
      "Result_datalake/BSB/FLT46_BSB.csv\n",
      "\n",
      "\n",
      "VERTICAL PROFILE: Result_datalake/BSB/FLT46_BSB.csv\n",
      "\n",
      "\n",
      "ENERGY PROFILE: Result_datalake/BSB/FLT46_BSB.csv\n",
      "Result_datalake/BSB/FLT47_BSB.csv\n",
      "\n",
      "\n",
      "VERTICAL PROFILE: Result_datalake/BSB/FLT47_BSB.csv\n",
      "\n",
      "\n",
      "ENERGY PROFILE: Result_datalake/BSB/FLT47_BSB.csv\n",
      "Result_datalake/BSB/FLT13_BSB.csv\n",
      "\n",
      "\n",
      "VERTICAL PROFILE: Result_datalake/BSB/FLT13_BSB.csv\n",
      "\n",
      "\n",
      "ENERGY PROFILE: Result_datalake/BSB/FLT13_BSB.csv\n",
      "Result_datalake/BSB/FLT16_BSB.csv\n",
      "\n",
      "\n",
      "VERTICAL PROFILE: Result_datalake/BSB/FLT16_BSB.csv\n",
      "\n",
      "\n",
      "ENERGY PROFILE: Result_datalake/BSB/FLT16_BSB.csv\n",
      "Result_datalake/BSB/FLT42_BSB.csv\n",
      "\n",
      "\n",
      "VERTICAL PROFILE: Result_datalake/BSB/FLT42_BSB.csv\n",
      "\n",
      "\n",
      "ENERGY PROFILE: Result_datalake/BSB/FLT42_BSB.csv\n",
      "Result_datalake/BSB/FLT20_BSB.csv\n",
      "\n",
      "\n",
      "VERTICAL PROFILE: Result_datalake/BSB/FLT20_BSB.csv\n",
      "\n",
      "\n",
      "ENERGY PROFILE: Result_datalake/BSB/FLT20_BSB.csv\n",
      "Result_datalake/BSB/FLT43_BSB.csv\n",
      "\n",
      "\n",
      "VERTICAL PROFILE: Result_datalake/BSB/FLT43_BSB.csv\n",
      "\n",
      "\n",
      "ENERGY PROFILE: Result_datalake/BSB/FLT43_BSB.csv\n",
      "Result_datalake/BSB/FLT17_BSB.csv\n",
      "\n",
      "\n",
      "VERTICAL PROFILE: Result_datalake/BSB/FLT17_BSB.csv\n",
      "\n",
      "\n",
      "ENERGY PROFILE: Result_datalake/BSB/FLT17_BSB.csv\n",
      "Result_datalake/BSB/FLT41_BSB.csv\n",
      "\n",
      "\n",
      "VERTICAL PROFILE: Result_datalake/BSB/FLT41_BSB.csv\n",
      "\n",
      "\n",
      "ENERGY PROFILE: Result_datalake/BSB/FLT41_BSB.csv\n",
      "Result_datalake/BSB/FLT48_BSB.csv\n",
      "\n",
      "\n",
      "VERTICAL PROFILE: Result_datalake/BSB/FLT48_BSB.csv\n",
      "\n",
      "\n",
      "ENERGY PROFILE: Result_datalake/BSB/FLT48_BSB.csv\n",
      "Result_datalake/BSB/FLT15_BSB.csv\n",
      "\n",
      "\n",
      "VERTICAL PROFILE: Result_datalake/BSB/FLT15_BSB.csv\n",
      "\n",
      "\n",
      "ENERGY PROFILE: Result_datalake/BSB/FLT15_BSB.csv\n",
      "Result_datalake/BSB/FLT49_BSB.csv\n",
      "\n",
      "\n",
      "VERTICAL PROFILE: Result_datalake/BSB/FLT49_BSB.csv\n",
      "\n",
      "\n",
      "ENERGY PROFILE: Result_datalake/BSB/FLT49_BSB.csv\n",
      "Result_datalake/BSB/FLT14_BSB.csv\n",
      "\n",
      "\n",
      "VERTICAL PROFILE: Result_datalake/BSB/FLT14_BSB.csv\n",
      "\n",
      "\n",
      "ENERGY PROFILE: Result_datalake/BSB/FLT14_BSB.csv\n",
      "Result_datalake/BSB/FLT50_BSB.csv\n",
      "\n",
      "\n",
      "VERTICAL PROFILE: Result_datalake/BSB/FLT50_BSB.csv\n",
      "\n",
      "\n",
      "ENERGY PROFILE: Result_datalake/BSB/FLT50_BSB.csv\n",
      "Result_datalake/VCP/FLT44_VCP.csv\n",
      "\n",
      "\n",
      "VERTICAL PROFILE: Result_datalake/VCP/FLT44_VCP.csv\n",
      "\n",
      "\n",
      "ENERGY PROFILE: Result_datalake/VCP/FLT44_VCP.csv\n",
      "Result_datalake/VCP/FLT45_VCP.csv\n",
      "\n",
      "\n",
      "VERTICAL PROFILE: Result_datalake/VCP/FLT45_VCP.csv\n",
      "\n",
      "\n",
      "ENERGY PROFILE: Result_datalake/VCP/FLT45_VCP.csv\n",
      "Result_datalake/VCP/FLT47_VCP.csv\n",
      "\n",
      "\n",
      "VERTICAL PROFILE: Result_datalake/VCP/FLT47_VCP.csv\n",
      "\n",
      "\n",
      "ENERGY PROFILE: Result_datalake/VCP/FLT47_VCP.csv\n",
      "Result_datalake/VCP/FLT46_VCP.csv\n",
      "\n",
      "\n",
      "VERTICAL PROFILE: Result_datalake/VCP/FLT46_VCP.csv\n",
      "\n",
      "\n",
      "ENERGY PROFILE: Result_datalake/VCP/FLT46_VCP.csv\n",
      "Result_datalake/VCP/FLT43_VCP.csv\n",
      "\n",
      "\n",
      "VERTICAL PROFILE: Result_datalake/VCP/FLT43_VCP.csv\n",
      "\n",
      "\n",
      "ENERGY PROFILE: Result_datalake/VCP/FLT43_VCP.csv\n",
      "Result_datalake/VCP/FLT42_VCP.csv\n",
      "\n",
      "\n",
      "VERTICAL PROFILE: Result_datalake/VCP/FLT42_VCP.csv\n",
      "\n",
      "\n",
      "ENERGY PROFILE: Result_datalake/VCP/FLT42_VCP.csv\n",
      "Result_datalake/VCP/FLT49_VCP.csv\n",
      "\n",
      "\n",
      "VERTICAL PROFILE: Result_datalake/VCP/FLT49_VCP.csv\n",
      "\n",
      "\n",
      "ENERGY PROFILE: Result_datalake/VCP/FLT49_VCP.csv\n",
      "Result_datalake/VCP/FLT50_VCP.csv\n",
      "\n",
      "\n",
      "VERTICAL PROFILE: Result_datalake/VCP/FLT50_VCP.csv\n",
      "\n",
      "\n",
      "ENERGY PROFILE: Result_datalake/VCP/FLT50_VCP.csv\n",
      "Result_datalake/VCP/FLT41_VCP.csv\n",
      "\n",
      "\n",
      "VERTICAL PROFILE: Result_datalake/VCP/FLT41_VCP.csv\n",
      "\n",
      "\n",
      "ENERGY PROFILE: Result_datalake/VCP/FLT41_VCP.csv\n",
      "Result_datalake/VCP/FLT48_VCP.csv\n",
      "\n",
      "\n",
      "VERTICAL PROFILE: Result_datalake/VCP/FLT48_VCP.csv\n",
      "\n",
      "\n",
      "ENERGY PROFILE: Result_datalake/VCP/FLT48_VCP.csv\n",
      "Result_datalake/MAO/FLT18_MAO.csv\n",
      "\n",
      "\n",
      "VERTICAL PROFILE: Result_datalake/MAO/FLT18_MAO.csv\n",
      "\n",
      "\n",
      "ENERGY PROFILE: Result_datalake/MAO/FLT18_MAO.csv\n",
      "Result_datalake/MAO/FLT13_MAO.csv\n",
      "\n",
      "\n",
      "VERTICAL PROFILE: Result_datalake/MAO/FLT13_MAO.csv\n",
      "\n",
      "\n",
      "ENERGY PROFILE: Result_datalake/MAO/FLT13_MAO.csv\n",
      "Result_datalake/MAO/FLT12_MAO.csv\n",
      "\n",
      "\n",
      "VERTICAL PROFILE: Result_datalake/MAO/FLT12_MAO.csv\n",
      "\n",
      "\n",
      "ENERGY PROFILE: Result_datalake/MAO/FLT12_MAO.csv\n",
      "Result_datalake/MAO/FLT17_MAO.csv\n",
      "\n",
      "\n",
      "VERTICAL PROFILE: Result_datalake/MAO/FLT17_MAO.csv\n",
      "\n",
      "\n",
      "ENERGY PROFILE: Result_datalake/MAO/FLT17_MAO.csv\n",
      "Result_datalake/MAO/FLT15_MAO.csv\n",
      "\n",
      "\n",
      "VERTICAL PROFILE: Result_datalake/MAO/FLT15_MAO.csv\n",
      "\n",
      "\n",
      "ENERGY PROFILE: Result_datalake/MAO/FLT15_MAO.csv\n"
     ]
    }
   ],
   "source": [
    "from turtle import title\n",
    "\n",
    "from pyparsing import line\n",
    "\n",
    "\n",
    "for data_path in resultDataPath:\n",
    "        print(data_path)\n",
    "        flight_obj = pd.read_csv(data_path)\n",
    "        #display(flight_obj)\n",
    "\n",
    "        print(f\"\\n\\nVERTICAL PROFILE: {str(data_path)}\")\n",
    "        fig_height = px.scatter(flight_obj, x=\"TDD\", y=\"ALTSTDC\", hover_name=flight_obj[\"energy_state\"], color=\"energy_state\", color_discrete_map={\"LOW ENERGY\" : \"orange\", \"ON PATH\" : \"blue\", \"HIGH ENERGY\" : \"red\"})\n",
    "        fig_height.update_traces(marker=dict(size=3))\n",
    "        fig_height.update_layout(title=f\"VERTICAL PROFILE: {str(data_path)}\", title_x=1)\n",
    "        fig_height.add_traces(px.line(flight_obj, x=\"TDD\", y=\"H_GEOM_REF_ft\", title=\"Reference Line\", color_discrete_sequence=[\"black\"], line_dash_sequence=[\"dash\"]).data)\n",
    "        fig_height.write_image(\"Result_datalake/Vertical_Profile/\" + data_path.split('/')[1] + \"/\" + data_path.split('/')[2].replace('.csv', '.png'))\n",
    "        #fig_height.show()\n",
    "\n",
    "        print(f\"\\n\\nENERGY PROFILE: {str(data_path)}\")\n",
    "        fig_height = px.scatter(flight_obj, x=\"TDD\", y=\"e_tot\", hover_name=flight_obj[\"energy_state\"], color=\"energy_state\", color_discrete_map={\"LOW ENERGY\" : \"orange\", \"ON PATH\" : \"blue\", \"HIGH ENERGY\" : \"red\"})\n",
    "        fig_height.update_traces(marker=dict(size=3))\n",
    "        fig_height.add_traces(px.line(flight_obj, x=\"TDD\", y=\"e_ref_inf\", title=\"Inferior Limit\", color_discrete_sequence=['orange']).data)\n",
    "        fig_height.add_traces(px.line(flight_obj, x=\"TDD\", y=\"e_ref_supp\", title=\"Superior Limit\", color_discrete_sequence=['red']).data)\n",
    "        fig_height.add_traces(px.line(flight_obj, x=\"TDD\", y=\"E_TOT_ref\", title=\"Reference Line\", color_discrete_sequence=[\"black\"], line_dash_sequence=[\"dash\"]).data)\n",
    "        fig_height.update_layout(title=f\"ENERGY PROFILE: {str(data_path)}\", title_x=1)\n",
    "        fig_height.write_image(\"Result_datalake/Energy_Profile/\" + data_path.split('/')[1] + \"/\" + data_path.split('/')[2].replace('.csv', '.png'))\n",
    "        #fig_height.show()"
   ]
  },
  {
   "cell_type": "code",
   "execution_count": null,
   "metadata": {},
   "outputs": [],
   "source": []
  }
 ],
 "metadata": {
  "kernelspec": {
   "display_name": "base",
   "language": "python",
   "name": "python3"
  },
  "language_info": {
   "codemirror_mode": {
    "name": "ipython",
    "version": 3
   },
   "file_extension": ".py",
   "mimetype": "text/x-python",
   "name": "python",
   "nbconvert_exporter": "python",
   "pygments_lexer": "ipython3",
   "version": "3.11.7"
  }
 },
 "nbformat": 4,
 "nbformat_minor": 2
}
